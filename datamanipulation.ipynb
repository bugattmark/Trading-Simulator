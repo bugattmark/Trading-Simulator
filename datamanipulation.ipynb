{
 "cells": [
  {
   "cell_type": "code",
   "execution_count": 1,
   "metadata": {},
   "outputs": [
    {
     "name": "stdout",
     "output_type": "stream",
     "text": [
      "\n",
      "    1. Appel Announces Breakthrough in Battery Technology \n",
      "Significant advancement in battery technology positively impacts product offerings and consumer demand, with effects lasting for a moderate period as competitors catch up.\n",
      "    2. Appel Launches New iPhone Model with 5G Capability \n",
      "Launching a highly anticipated iPhone model with advanced capabilities typically leads to increased sales and investor enthusiasm, with effects persisting until the next major product release.\n",
      "    3. Appel Expands into Healthcare Technology\n",
      "Diversifying into healthcare technology presents new revenue opportunities, though the impact may take time to materialize fully and could last until significant advancements are made in the healthcare sector.\n",
      "    4. Global Economic Recovery Boosts Tech Sector \n",
      "A strong global economic recovery generally benefits technology companies like Appel, though the impact may be moderate and could last until the next economic downturn.\n",
      "    5. Appel Partners with Leading Car Manufacturer for Autonomous Vehicle Project \n",
      "Collaboration on autonomous vehicles represents a potentially lucrative new market for Appel, with effects lasting until significant progress or setbacks occur in the autonomous vehicle industry.\n",
      "    6. Appel Reports Record Sales and Profits for Latest Quarter \n",
      "Strong financial performance signals company health and growth potential, typically resulting in a positive reaction from investors, with effects persisting until the next earnings report.\n",
      "    7. Appel Acquires Innovative Augmented Reality Startup \n",
      "Strategic acquisitions, especially in emerging technologies like augmented reality, can boost investor confidence in Appel's long-term vision, with effects lasting until significant developments or changes in strategy occur.\n",
      "    8. Appel Introduces Sustainable Practices in Supply Chain Management \n",
      "Implementing sustainable practices may improve Appel's reputation and appeal to environmentally conscious consumers, positively impacting stock sentiment, with effects lasting until significant changes are made in the supply chain.\n",
      "    9. Positive Reception for Appel's Entry into Wearable Technology Market \n",
      "Successful entry into the wearable technology market could diversify Appel's revenue streams and strengthen its competitive position, with effects lasting until significant advancements or disruptions occur in the wearable technology market.\n",
      "    10. Appel Receives Regulatory Approval for New Product Launch \n",
      "Regulatory approval for new products clears a significant hurdle and allows Appel to proceed with its plans, potentially driving stock price upward, with effects lasting until significant regulatory changes or challenges occur.\n",
      "        2. Global Chip Shortage Impacts Apple Production \n",
      "A global chip shortage could significantly disrupt Apple's production and lead to product delays and revenue losses, with effects lasting until chip supply constraints ease or alternative solutions are implemented.\n",
      "        3. Apple Faces Antitrust Scrutiny \n",
      "Antitrust investigations pose a significant risk to Apple's business model and could result in regulatory action or legal repercussions, with effects lasting until regulatory decisions are made or significant changes occur in Apple's business practices.\n",
      "        4. Cybersecurity Breach Affects Apple Services \n",
      "A cybersecurity breach undermines consumer trust and could lead to financial losses and reputational damage for Apple, with effects lasting until trust is restored or significant improvements are made in cybersecurity measures.\n",
      "        5. Apple Issues Product Recall Due to Safety Concerns\n",
      "Product recalls can lead to financial losses, damage Apple's reputation, and erode consumer confidence in its products, with effects lasting until product safety concerns are addressed or significant changes are made in product development and testing processes.\n",
      "    \n"
     ]
    }
   ],
   "source": [
    "data = \"\"\"\n",
    "    1. Appel Announces Breakthrough in Battery Technology \n",
    "Significant advancement in battery technology positively impacts product offerings and consumer demand, with effects lasting for a moderate period as competitors catch up.\n",
    "    2. Appel Launches New iPhone Model with 5G Capability \n",
    "Launching a highly anticipated iPhone model with advanced capabilities typically leads to increased sales and investor enthusiasm, with effects persisting until the next major product release.\n",
    "    3. Appel Expands into Healthcare Technology\n",
    "Diversifying into healthcare technology presents new revenue opportunities, though the impact may take time to materialize fully and could last until significant advancements are made in the healthcare sector.\n",
    "    4. Global Economic Recovery Boosts Tech Sector \n",
    "A strong global economic recovery generally benefits technology companies like Appel, though the impact may be moderate and could last until the next economic downturn.\n",
    "    5. Appel Partners with Leading Car Manufacturer for Autonomous Vehicle Project \n",
    "Collaboration on autonomous vehicles represents a potentially lucrative new market for Appel, with effects lasting until significant progress or setbacks occur in the autonomous vehicle industry.\n",
    "    6. Appel Reports Record Sales and Profits for Latest Quarter \n",
    "Strong financial performance signals company health and growth potential, typically resulting in a positive reaction from investors, with effects persisting until the next earnings report.\n",
    "    7. Appel Acquires Innovative Augmented Reality Startup \n",
    "Strategic acquisitions, especially in emerging technologies like augmented reality, can boost investor confidence in Appel's long-term vision, with effects lasting until significant developments or changes in strategy occur.\n",
    "    8. Appel Introduces Sustainable Practices in Supply Chain Management \n",
    "Implementing sustainable practices may improve Appel's reputation and appeal to environmentally conscious consumers, positively impacting stock sentiment, with effects lasting until significant changes are made in the supply chain.\n",
    "    9. Positive Reception for Appel's Entry into Wearable Technology Market \n",
    "Successful entry into the wearable technology market could diversify Appel's revenue streams and strengthen its competitive position, with effects lasting until significant advancements or disruptions occur in the wearable technology market.\n",
    "    10. Appel Receives Regulatory Approval for New Product Launch \n",
    "Regulatory approval for new products clears a significant hurdle and allows Appel to proceed with its plans, potentially driving stock price upward, with effects lasting until significant regulatory changes or challenges occur.\n",
    "        2. Global Chip Shortage Impacts Apple Production \n",
    "A global chip shortage could significantly disrupt Apple's production and lead to product delays and revenue losses, with effects lasting until chip supply constraints ease or alternative solutions are implemented.\n",
    "        3. Apple Faces Antitrust Scrutiny \n",
    "Antitrust investigations pose a significant risk to Apple's business model and could result in regulatory action or legal repercussions, with effects lasting until regulatory decisions are made or significant changes occur in Apple's business practices.\n",
    "        4. Cybersecurity Breach Affects Apple Services \n",
    "A cybersecurity breach undermines consumer trust and could lead to financial losses and reputational damage for Apple, with effects lasting until trust is restored or significant improvements are made in cybersecurity measures.\n",
    "        5. Apple Issues Product Recall Due to Safety Concerns\n",
    "Product recalls can lead to financial losses, damage Apple's reputation, and erode consumer confidence in its products, with effects lasting until product safety concerns are addressed or significant changes are made in product development and testing processes.\n",
    "    \"\"\"\n",
    "\n",
    "print(data)"
   ]
  },
  {
   "cell_type": "code",
   "execution_count": 2,
   "metadata": {},
   "outputs": [],
   "source": [
    "lines = data.strip().split('\\n')"
   ]
  },
  {
   "cell_type": "code",
   "execution_count": 3,
   "metadata": {},
   "outputs": [
    {
     "data": {
      "text/plain": [
       "['1. Appel Announces Breakthrough in Battery Technology ',\n",
       " 'Significant advancement in battery technology positively impacts product offerings and consumer demand, with effects lasting for a moderate period as competitors catch up.',\n",
       " '    2. Appel Launches New iPhone Model with 5G Capability ',\n",
       " 'Launching a highly anticipated iPhone model with advanced capabilities typically leads to increased sales and investor enthusiasm, with effects persisting until the next major product release.',\n",
       " '    3. Appel Expands into Healthcare Technology',\n",
       " 'Diversifying into healthcare technology presents new revenue opportunities, though the impact may take time to materialize fully and could last until significant advancements are made in the healthcare sector.',\n",
       " '    4. Global Economic Recovery Boosts Tech Sector ',\n",
       " 'A strong global economic recovery generally benefits technology companies like Appel, though the impact may be moderate and could last until the next economic downturn.',\n",
       " '    5. Appel Partners with Leading Car Manufacturer for Autonomous Vehicle Project ',\n",
       " 'Collaboration on autonomous vehicles represents a potentially lucrative new market for Appel, with effects lasting until significant progress or setbacks occur in the autonomous vehicle industry.',\n",
       " '    6. Appel Reports Record Sales and Profits for Latest Quarter ',\n",
       " 'Strong financial performance signals company health and growth potential, typically resulting in a positive reaction from investors, with effects persisting until the next earnings report.',\n",
       " '    7. Appel Acquires Innovative Augmented Reality Startup ',\n",
       " \"Strategic acquisitions, especially in emerging technologies like augmented reality, can boost investor confidence in Appel's long-term vision, with effects lasting until significant developments or changes in strategy occur.\",\n",
       " '    8. Appel Introduces Sustainable Practices in Supply Chain Management ',\n",
       " \"Implementing sustainable practices may improve Appel's reputation and appeal to environmentally conscious consumers, positively impacting stock sentiment, with effects lasting until significant changes are made in the supply chain.\",\n",
       " \"    9. Positive Reception for Appel's Entry into Wearable Technology Market \",\n",
       " \"Successful entry into the wearable technology market could diversify Appel's revenue streams and strengthen its competitive position, with effects lasting until significant advancements or disruptions occur in the wearable technology market.\",\n",
       " '    10. Appel Receives Regulatory Approval for New Product Launch ',\n",
       " 'Regulatory approval for new products clears a significant hurdle and allows Appel to proceed with its plans, potentially driving stock price upward, with effects lasting until significant regulatory changes or challenges occur.',\n",
       " '        2. Global Chip Shortage Impacts Apple Production ',\n",
       " \"A global chip shortage could significantly disrupt Apple's production and lead to product delays and revenue losses, with effects lasting until chip supply constraints ease or alternative solutions are implemented.\",\n",
       " '        3. Apple Faces Antitrust Scrutiny ',\n",
       " \"Antitrust investigations pose a significant risk to Apple's business model and could result in regulatory action or legal repercussions, with effects lasting until regulatory decisions are made or significant changes occur in Apple's business practices.\",\n",
       " '4. Cybersecurity Breach Affects Apple Services ',\n",
       " 'A cybersecurity breach undermines consumer trust and could lead to financial losses and reputational damage for Apple, with effects lasting until trust is restored or significant improvements are made in cybersecurity measures.',\n",
       " '*Apple Issues Product Recall Due to Safety Concerns',\n",
       " \"Product recalls can lead to financial losses, damage Apple's reputation, and erode consumer confidence in its products, with effects lasting until product safety concerns are addressed or significant changes are made in product development and testing processes.\"]"
      ]
     },
     "execution_count": 3,
     "metadata": {},
     "output_type": "execute_result"
    }
   ],
   "source": [
    "lines"
   ]
  },
  {
   "cell_type": "code",
   "execution_count": 8,
   "metadata": {},
   "outputs": [],
   "source": [
    "temp = []\n",
    "for i in range(1,len(lines),2):\n",
    "    temp.append(lines[i])"
   ]
  },
  {
   "cell_type": "code",
   "execution_count": 9,
   "metadata": {},
   "outputs": [
    {
     "data": {
      "text/plain": [
       "['Significant advancement in battery technology positively impacts product offerings and consumer demand, with effects lasting for a moderate period as competitors catch up.',\n",
       " 'Launching a highly anticipated iPhone model with advanced capabilities typically leads to increased sales and investor enthusiasm, with effects persisting until the next major product release.',\n",
       " 'Diversifying into healthcare technology presents new revenue opportunities, though the impact may take time to materialize fully and could last until significant advancements are made in the healthcare sector.',\n",
       " 'A strong global economic recovery generally benefits technology companies like Appel, though the impact may be moderate and could last until the next economic downturn.',\n",
       " 'Collaboration on autonomous vehicles represents a potentially lucrative new market for Appel, with effects lasting until significant progress or setbacks occur in the autonomous vehicle industry.',\n",
       " 'Strong financial performance signals company health and growth potential, typically resulting in a positive reaction from investors, with effects persisting until the next earnings report.',\n",
       " \"Strategic acquisitions, especially in emerging technologies like augmented reality, can boost investor confidence in Appel's long-term vision, with effects lasting until significant developments or changes in strategy occur.\",\n",
       " \"Implementing sustainable practices may improve Appel's reputation and appeal to environmentally conscious consumers, positively impacting stock sentiment, with effects lasting until significant changes are made in the supply chain.\",\n",
       " \"Successful entry into the wearable technology market could diversify Appel's revenue streams and strengthen its competitive position, with effects lasting until significant advancements or disruptions occur in the wearable technology market.\",\n",
       " 'Regulatory approval for new products clears a significant hurdle and allows Appel to proceed with its plans, potentially driving stock price upward, with effects lasting until significant regulatory changes or challenges occur.',\n",
       " \"A global chip shortage could significantly disrupt Apple's production and lead to product delays and revenue losses, with effects lasting until chip supply constraints ease or alternative solutions are implemented.\",\n",
       " \"Antitrust investigations pose a significant risk to Apple's business model and could result in regulatory action or legal repercussions, with effects lasting until regulatory decisions are made or significant changes occur in Apple's business practices.\",\n",
       " 'A cybersecurity breach undermines consumer trust and could lead to financial losses and reputational damage for Apple, with effects lasting until trust is restored or significant improvements are made in cybersecurity measures.',\n",
       " \"Product recalls can lead to financial losses, damage Apple's reputation, and erode consumer confidence in its products, with effects lasting until product safety concerns are addressed or significant changes are made in product development and testing processes.\"]"
      ]
     },
     "execution_count": 9,
     "metadata": {},
     "output_type": "execute_result"
    }
   ],
   "source": [
    "temp"
   ]
  }
 ],
 "metadata": {
  "kernelspec": {
   "display_name": "Python 3",
   "language": "python",
   "name": "python3"
  },
  "language_info": {
   "codemirror_mode": {
    "name": "ipython",
    "version": 3
   },
   "file_extension": ".py",
   "mimetype": "text/x-python",
   "name": "python",
   "nbconvert_exporter": "python",
   "pygments_lexer": "ipython3",
   "version": "3.11.4"
  }
 },
 "nbformat": 4,
 "nbformat_minor": 2
}
